{
 "cells": [
  {
   "cell_type": "markdown",
   "metadata": {},
   "source": [
    "#### Load required libraries"
   ]
  },
  {
   "cell_type": "code",
   "execution_count": 2,
   "metadata": {},
   "outputs": [],
   "source": [
    "import os\n",
    "import numpy as np\n",
    "try:\n",
    "    import pyviscous as vs \n",
    "except ImportError as e:\n",
    "    import sys\n",
    "    sys.path.append('../../')\n",
    "    import pyviscous.pyviscous as vs"
   ]
  },
  {
   "cell_type": "markdown",
   "metadata": {},
   "source": [
    "#### Load Sobol function\n",
    "The Sobol function is defined as:\n",
    "$$ y = \\prod_{i=1}^{n} \\frac{|4x_i-2|+a_i}{1+a_i} $$\n",
    "Set $ n=10 $, then $ (x_1,…,x_{10}) $ are the ten input variables uniformly distributed in $[0,1]$.<br>\n",
    "We can conveniently get all the three types of function by changing $ a_i$ ([Kucherenko et al., 2011](https://www.sciencedirect.com/science/article/abs/pii/S0951832010002437))."
   ]
  },
  {
   "cell_type": "markdown",
   "metadata": {},
   "source": [
    "| Type   | $a_i$                              |\n",
    "|:---------|:--------------------------                   |\n",
    "| Type A      | $ a_1 = a_2 = 0, a_3 = ... = a_n = 6.25 $ |\n",
    "| Type B      | $ a_i = 6.25 $ |\n",
    "| Type C      | $ a_i = 0 $ |"
   ]
  },
  {
   "cell_type": "code",
   "execution_count": 1,
   "metadata": {},
   "outputs": [],
   "source": [
    "def Sobol_function(x, a):\n",
    "    ''' Sobol function\n",
    "    -------\n",
    "    x: input array, shape (nSample,nVar).\n",
    "    a: input array, shape (nSample,nVar).\n",
    "    y: output array, shape (nSample,1).'''\n",
    "    \n",
    "    subPart = np.abs(4*x-2)\n",
    "    y = np.prod((subPart+a)/(1+a), axis=1) \n",
    "\n",
    "    if len(np.shape(y)) == 1: # if shape(nSample,) -> (nSample,1)\n",
    "        y = y.reshape(-1,1) \n",
    "\n",
    "    return y"
   ]
  },
  {
   "cell_type": "markdown",
   "metadata": {},
   "source": [
    "#### Specify input and output configurations"
   ]
  },
  {
   "cell_type": "code",
   "execution_count": 4,
   "metadata": {},
   "outputs": [],
   "source": [
    "rootPath  = '.'  # root path where example data will be stored.\n",
    "outputDir = os.path.join(rootPath,'outputs')\n",
    "if not os.path.exists(outputDir):\n",
    "    os.makedirs(outputDir)\n",
    "\n",
    "nVar            = 10     # number of input x variables\n",
    "paramLowerLimit = 0      # lower limit of x\n",
    "paramUpperLimit = 1      # upper limit of x\n",
    "nSample         = 10000  # number of input data samples\n",
    "\n",
    "sampleFile      = os.path.join(outputDir,'samples_nVar%d.txt'%(nVar))\n",
    "sampleCDFFile   = os.path.join(outputDir,'samplesCDF_nVar%d.txt'%(nVar))\n",
    "sampleStdFile   = os.path.join(outputDir,'samplesStd_nVar%d.txt'%(nVar))"
   ]
  },
  {
   "cell_type": "markdown",
   "metadata": {},
   "source": [
    "### Part 1. Generate & standradize data"
   ]
  },
  {
   "cell_type": "markdown",
   "metadata": {},
   "source": [
    "#### Generate sample data"
   ]
  },
  {
   "cell_type": "code",
   "execution_count": 5,
   "metadata": {},
   "outputs": [
    {
     "name": "stdout",
     "output_type": "stream",
     "text": [
      "Samples data: ./outputs/samples_nVar10.txt\n"
     ]
    }
   ],
   "source": [
    "# Specify sample file.\n",
    "if os.path.exists(sampleFile): # If exist, remove samples.\n",
    "    os.remove(sampleFile)\n",
    "\n",
    "# Generate input variable samples (x) \n",
    "x = np.zeros((nSample,nVar))\n",
    "a = np.zeros((nSample,nVar))\n",
    "a[:, 2:] = 6.52              # type A function\n",
    "for iVar in range(nVar):\n",
    "    prng = np.random.RandomState(iVar)\n",
    "    x[:,iVar] = prng.uniform(low=paramLowerLimit, high=paramUpperLimit, size=nSample)               \n",
    "\n",
    "# Generate the corresponding responses (y).\n",
    "y = Sobol_function(x, a)\n",
    "\n",
    "# Save sample data.\n",
    "samples    = np.concatenate((x,y), axis=1)    \n",
    "header_str = ','.join(['X'+str(iVar+1) for iVar in range(nVar)])+',Y'\n",
    "np.savetxt(sampleFile, samples, delimiter=',', header=header_str)\n",
    "print('Samples data: %s'%(sampleFile))\n"
   ]
  },
  {
   "cell_type": "markdown",
   "metadata": {},
   "source": [
    "#### Standardize sample data "
   ]
  },
  {
   "cell_type": "code",
   "execution_count": 6,
   "metadata": {},
   "outputs": [
    {
     "name": "stdout",
     "output_type": "stream",
     "text": [
      "Standardizing ...\n",
      "CDF data: ./outputs/samples_nVar10.txt\n",
      "Standardized data: ./outputs/samples_nVar10.txt\n"
     ]
    }
   ],
   "source": [
    "# Read sample data (x,y).\n",
    "data = np.loadtxt(sampleFile, skiprows=0, delimiter=',')\n",
    "x    = data[:,0:-1]\n",
    "y    = data[:,-1].reshape(-1,1)    \n",
    "\n",
    "# Standardize x.\n",
    "print('Standardizing ...')\n",
    "[nSample, nVar] = np.shape(x)\n",
    "cdfx            = np.zeros_like(x)          # CDF of x.\n",
    "zx              = np.zeros_like(x)          # standardized data zx.  \n",
    "for iVar in range(nVar):\n",
    "    cdfx[:,iVar], zx[:,iVar] = vs.standardize_data(x[:,iVar])         \n",
    "\n",
    "# Standardize y.\n",
    "cdfy, zy   = vs.standardize_data(y)\n",
    "\n",
    "# Save CDF.\n",
    "cdf_tmp    = np.concatenate((cdfx,cdfy), axis=1)    \n",
    "header_str = ','.join(['X_CDF'+str(iVar+1) for iVar in range(nVar)])+',Y_CDF'\n",
    "np.savetxt(sampleCDFFile,cdf_tmp,delimiter=',',header=header_str)\n",
    "print('CDF data: %s'%(sampleFile))\n",
    "\n",
    "# Save standardized data.\n",
    "std_tmp    = np.concatenate((zx,zy), axis=1)    \n",
    "header_str = ','.join(['X_STD'+str(iVar+1) for iVar in range(nVar)])+',Y_STD'\n",
    "np.savetxt(sampleStdFile,std_tmp,delimiter=',',header=header_str)\n",
    "print('Standardized data: %s'%(sampleFile))"
   ]
  },
  {
   "cell_type": "markdown",
   "metadata": {},
   "source": [
    "### Part 2. Calculate first-order sensitivity indices using VISCOUS "
   ]
  },
  {
   "cell_type": "code",
   "execution_count": 7,
   "metadata": {},
   "outputs": [
    {
     "name": "stdout",
     "output_type": "stream",
     "text": [
      "Calculating first-order sensitivity indices...\n",
      "--- variable group [0] --- \n",
      "--- fitting GMM...\n",
      "--- calculating sensitivity index...\n",
      "--- Sensitivity index = 0.332419\n",
      "\n"
     ]
    }
   ],
   "source": [
    "# Load raw data\n",
    "data = np.loadtxt(sampleFile, skiprows=0, delimiter=',')\n",
    "x    = data[:,0:-1]\n",
    "y    = data[:,-1].reshape(-1,1)    \n",
    "\n",
    "# Load standardized data\n",
    "data = np.loadtxt(sampleStdFile, skiprows=0, delimiter=',')\n",
    "zx   = data[:,0:-1]\n",
    "zy   = data[:,-1].reshape(-1,1)    \n",
    "\n",
    "# Specify VISCOUS configurations\n",
    "sensType     = 'first'     # two options for sensitivity index calculation: 'first' or 'total' \n",
    "\n",
    "GSAIndex     = [[0]]       # Index 0 refers to the 1st input variable x1, meaning we aim to calculate the sensitivity index of x1.                     \n",
    "                           # use vs.define_GSA_variable_index(nVar) if you want to compute each x variable' sensitivity indcies.\n",
    "                           # use [[0],[1]] if you want to compute the sensitivity indices of x1 and x2.\n",
    "    \n",
    "N1, N2       = 1000, 1000  # Monte Carlo sample size. N1 is for outer loop, N2 is for inner loop.\n",
    "\n",
    "n_components = 'optimal'   # The number of components used in GMM inference. An integer or string \"optimal\". \n",
    "                           # If n_components is an integer, it will be used as the fixed user-provided number of components.\n",
    "                           # If n_components is \"optimal\", it will look for an optimal number of components in the range of [1, n_xvariables+20].\n",
    "\n",
    "# Calculate sensitivity indeces using VISCOUS\n",
    "sensIndex_first, fitted_gmm_ls_first = vs.VISCOUS(x, y, zx, zy, sensType, GSAIndex, N1, N2, n_components)  \n"
   ]
  },
  {
   "cell_type": "markdown",
   "metadata": {},
   "source": [
    "#### Look at sensitivity indices and Gaussian mixture model (GMM) results"
   ]
  },
  {
   "cell_type": "code",
   "execution_count": 9,
   "metadata": {},
   "outputs": [
    {
     "name": "stdout",
     "output_type": "stream",
     "text": [
      "S1 = 0.3324\n"
     ]
    }
   ],
   "source": [
    "# Look at sensitivity indices \n",
    "for iGSA in range(len(GSAIndex)):\n",
    "    if len(GSAIndex[iGSA])==1:\n",
    "        print('S%d = %.4f'%(GSAIndex[iGSA][0]+1, sensIndex_first[iGSA]))\n",
    "    else:\n",
    "        var_label = ''\n",
    "        for ind in GSAIndex[iGSA]:\n",
    "            var_label = var_label+'%d,'%(ind+1)\n",
    "        var_label = var_label.rstrip(',')\n",
    "        print('S%s = %.4f'%(var_label, sensIndex_first[iGSA]))"
   ]
  },
  {
   "cell_type": "code",
   "execution_count": 10,
   "metadata": {},
   "outputs": [
    {
     "name": "stdout",
     "output_type": "stream",
     "text": [
      "gmmNComponents =  19\n"
     ]
    }
   ],
   "source": [
    "# Look at best fitted GMM details of a specific variable group (eg, the 1st)\n",
    "gmm = fitted_gmm_ls_first[0]\n",
    "gmmWeights     = gmm.weights_            # shape (n_components,)\n",
    "gmmMeans       = gmm.means_              # shape (n_components, n_variables). \n",
    "gmmCovariances = gmm.covariances_        # (n_components, n_variables, n_variables) if covariance_type = ‘full’ (by default).    \n",
    "gmmNComponents = gmm.n_components        # number of components\n",
    "print('gmmNComponents = ',gmmNComponents)"
   ]
  },
  {
   "cell_type": "code",
   "execution_count": 16,
   "metadata": {},
   "outputs": [],
   "source": [
    "# Plot GMM used by a specific variable group (eg, the 1st)\n",
    "var_name_ls = [r'${z_{x_{%d}}}$'%(i) for i in np.arange(1,nVar+1)]       # a list of all x variable names\n",
    "var_name_ls.append(r'${z_{x_y}}$')                                       # append y variable name\n",
    "ofile = os.path.join(outputDir,'gmm_mean_cov_x1_first.png')              # output figure file path\n",
    "\n",
    "vs.plot_gmm_mean_cov(fitted_gmm_ls_first[0], var_name_ls, sensType, GSAIndex[0], ofile)"
   ]
  },
  {
   "cell_type": "markdown",
   "metadata": {},
   "source": [
    "### Part 3. Calculate total-order sensitivity indices using VISCOUS "
   ]
  },
  {
   "cell_type": "code",
   "execution_count": 17,
   "metadata": {},
   "outputs": [
    {
     "name": "stdout",
     "output_type": "stream",
     "text": [
      "Calculating total-effect sensitivity indices...\n",
      "--- variable group [0] --- \n",
      "--- fitting GMM...\n",
      "--- calculating sensitivity index...\n",
      "--- Sensitivity index = 0.654325\n",
      "\n"
     ]
    }
   ],
   "source": [
    "# Load raw data\n",
    "data = np.loadtxt(sampleFile, skiprows=0, delimiter=',')\n",
    "x    = data[:,0:-1]\n",
    "y    = data[:,-1].reshape(-1,1)    \n",
    "\n",
    "# Load standardized data\n",
    "data = np.loadtxt(sampleStdFile, skiprows=0, delimiter=',')\n",
    "zx   = data[:,0:-1]\n",
    "zy   = data[:,-1].reshape(-1,1)    \n",
    "\n",
    "# Specify VISCOUS configurations\n",
    "sensType     = 'total'      # two options for sensitivity index calculation: 'first' or 'total' \n",
    "\n",
    "GSAIndex     = [[0]]        # Index 0 refers to the 1st input variable x1, meaning we aim to calculate the sensitivity index of x1.                     \n",
    "                            # use vs.define_GSA_variable_index(nVar) if you want to compute each x variable' sensitivity indcies.\n",
    "                            # use [[0],[1]] if you want to compute the sensitivity indices of x1 and x2.\n",
    "        \n",
    "N1, N2       = 1000, 1000   # Monte Carlo sample size. N1 is for outer loop, N2 is for inner loop.\n",
    "\n",
    "n_components = 'optimal'    # The number of components used in GMM inference. An integer or string \"optimal\". \n",
    "                            # If n_components is an integer, it will be used as the fixed user-provided number of components.\n",
    "                            # If n_components is \"optimal\", it will look for an optimal number of components in the range of [1, n_xvariables+20].\n",
    "\n",
    "\n",
    "# Calculate sensitivity indeces using VISCOUS\n",
    "sensIndex_total, fitted_gmm_ls_total = vs.VISCOUS(x, y, zx, zy, sensType, GSAIndex, N1, N2, n_components)  "
   ]
  },
  {
   "cell_type": "markdown",
   "metadata": {},
   "source": [
    "#### Look at sensitivity indices and Gaussian mixture model (GMM) results"
   ]
  },
  {
   "cell_type": "code",
   "execution_count": 18,
   "metadata": {},
   "outputs": [
    {
     "name": "stdout",
     "output_type": "stream",
     "text": [
      "ST1 = 0.6543\n"
     ]
    }
   ],
   "source": [
    "# Look at sensitivity indices \n",
    "for iGSA in range(len(GSAIndex)):\n",
    "    if len(GSAIndex[iGSA])==1:\n",
    "        print('ST%d = %.4f'%(GSAIndex[iGSA][0]+1, sensIndex_total[iGSA]))\n",
    "    else:\n",
    "        var_label = ''\n",
    "        for ind in GSAIndex[iGSA]:\n",
    "            var_label = var_label+'%d,'%(ind+1)\n",
    "        var_label = var_label.rstrip(',')\n",
    "        print('ST%s = %.4f'%(var_label, sensIndex_total[iGSA]))"
   ]
  },
  {
   "cell_type": "code",
   "execution_count": 19,
   "metadata": {},
   "outputs": [
    {
     "name": "stdout",
     "output_type": "stream",
     "text": [
      "gmmNComponents =  19\n"
     ]
    }
   ],
   "source": [
    "# Look at the best fitted GMM details of a specific variable group (eg, the 1st)\n",
    "gmm = fitted_gmm_ls_first[0]\n",
    "gmmWeights     = gmm.weights_            # shape (n_components,)\n",
    "gmmMeans       = gmm.means_              # shape (n_components, n_variables). \n",
    "gmmCovariances = gmm.covariances_        # (n_components, n_variables, n_variables) if covariance_type = ‘full’ (by default).    \n",
    "gmmNComponents = gmm.n_components        # number of components\n",
    "print('gmmNComponents = ',gmmNComponents)"
   ]
  },
  {
   "cell_type": "code",
   "execution_count": 88,
   "metadata": {},
   "outputs": [
    {
     "data": {
      "image/png": "[encoded data removed]",
      "text/plain": [
       "<Figure size 648x648 with 6 Axes>"
      ]
     },
     "metadata": {
      "needs_background": "light"
     },
     "output_type": "display_data"
    }
   ],
   "source": [
    "# Plot GMM used by a specific variable group (eg, the 1st)\n",
    "var_name_ls = [r'${z_{x_{%d}}}$'%(i) for i in np.arange(1,nVar+1)]       # a list of all x variable names\n",
    "var_name_ls.append(r'${z_{x_y}}$')                                       # append y variable name\n",
    "ofile = os.path.join(outputDir,'gmm_mean_cov_x1_total.png')              # output figure file path\n",
    "\n",
    "vs.plot_gmm_mean_cov(fitted_gmm_ls_total[0], var_name_ls, sensType, GSAIndex[0], ofile)"
   ]
  },
  {
   "cell_type": "code",
   "execution_count": null,
   "metadata": {},
   "outputs": [],
   "source": []
  }
 ],
 "metadata": {
  "kernelspec": {
   "display_name": "summa-env",
   "language": "python",
   "name": "summa-env"
  },
  "language_info": {
   "codemirror_mode": {
    "name": "ipython",
    "version": 3
   },
   "file_extension": ".py",
   "mimetype": "text/x-python",
   "name": "python",
   "nbconvert_exporter": "python",
   "pygments_lexer": "ipython3",
   "version": "3.9.6"
  }
 },
 "nbformat": 4,
 "nbformat_minor": 5
}
